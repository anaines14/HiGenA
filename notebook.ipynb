{
 "cells": [
  {
   "attachments": {},
   "cell_type": "markdown",
   "metadata": {},
   "source": [
    "# Alloy4Fun Data"
   ]
  },
  {
   "attachments": {},
   "cell_type": "markdown",
   "metadata": {},
   "source": [
    "## Import Data"
   ]
  },
  {
   "cell_type": "code",
   "execution_count": 137,
   "metadata": {},
   "outputs": [],
   "source": [
    "import pandas as pd, os \n",
    "\n",
    "def importDataFromDir(dir):\n",
    "    # Import all the data from a directory\n",
    "    # dir: directory with the data\n",
    "    # return: a dictionary of dataframes\n",
    "    dict = {}\n",
    "\n",
    "    for file in os.listdir(dir):\n",
    "        if file.endswith('.json'):\n",
    "            df = pd.read_json(f'{dir}/' + file, lines=True)\n",
    "            dict[file.removesuffix(\".json\")[0:3]] = df\n",
    "            print(f\"Imported {file}.\")\n",
    "\n",
    "    return dict"
   ]
  },
  {
   "cell_type": "code",
   "execution_count": 138,
   "metadata": {},
   "outputs": [
    {
     "name": "stdout",
     "output_type": "stream",
     "text": [
      "Imported 9jPK8KBWzjFmBx4Hb.json.\n",
      "Imported FwCGymHmbqcziisH5.json.\n",
      "Imported gAeD3MTGCCv8YNTaK.json.\n",
      "Imported JC8Tij8o8GZb99gEJ.json.\n",
      "Imported jyS8Bmceejj9pLbTW.json.\n",
      "Imported PQAJE67kz8w5NWJuM.json.\n",
      "Imported sDLK7uBCbgZon3znd.json.\n",
      "Imported WGdhwKZnCu7aKhXq9.json.\n",
      "Imported YH3ANm7Y5Qe5dSYem.json.\n",
      "Imported zoEADeCW2b2suJB2k.json.\n",
      "Imported zRAn69AocpkmxXZnW.json.\n"
     ]
    }
   ],
   "source": [
    "# Import files from the data directory\n",
    "dict = importDataFromDir('data')"
   ]
  },
  {
   "attachments": {},
   "cell_type": "markdown",
   "metadata": {},
   "source": [
    "## Data Cleaning\n",
    "\n",
    "### Remove useless features"
   ]
  },
  {
   "cell_type": "code",
   "execution_count": 139,
   "metadata": {},
   "outputs": [
    {
     "data": {
      "text/html": [
       "<div>\n",
       "<style scoped>\n",
       "    .dataframe tbody tr th:only-of-type {\n",
       "        vertical-align: middle;\n",
       "    }\n",
       "\n",
       "    .dataframe tbody tr th {\n",
       "        vertical-align: top;\n",
       "    }\n",
       "\n",
       "    .dataframe thead th {\n",
       "        text-align: right;\n",
       "    }\n",
       "</style>\n",
       "<table border=\"1\" class=\"dataframe\">\n",
       "  <thead>\n",
       "    <tr style=\"text-align: right;\">\n",
       "      <th></th>\n",
       "      <th>_id</th>\n",
       "      <th>cmd_c</th>\n",
       "      <th>cmd_i</th>\n",
       "      <th>cmd_n</th>\n",
       "      <th>code</th>\n",
       "      <th>derivationOf</th>\n",
       "      <th>original</th>\n",
       "      <th>sat</th>\n",
       "      <th>time</th>\n",
       "      <th>msg</th>\n",
       "      <th>theme</th>\n",
       "    </tr>\n",
       "  </thead>\n",
       "  <tbody>\n",
       "    <tr>\n",
       "      <th>0</th>\n",
       "      <td>zKAYz8BCDmHKgNoSx</td>\n",
       "      <td>1.0</td>\n",
       "      <td>7.0</td>\n",
       "      <td>prop8Ok</td>\n",
       "      <td>/**\\n * Linear temporal logic revision exercis...</td>\n",
       "      <td>dvhCng5AdxC8MqjFy</td>\n",
       "      <td>9jPK8KBWzjFmBx4Hb</td>\n",
       "      <td>1.0</td>\n",
       "      <td>2020-12-13 23:28:11</td>\n",
       "      <td>NaN</td>\n",
       "      <td>NaN</td>\n",
       "    </tr>\n",
       "    <tr>\n",
       "      <th>1</th>\n",
       "      <td>8FmQ9PNWT2SXncTxX</td>\n",
       "      <td>1.0</td>\n",
       "      <td>9.0</td>\n",
       "      <td>prop10Ok</td>\n",
       "      <td>/**\\n * Linear temporal logic revision exercis...</td>\n",
       "      <td>5eT7wTw5kT8DwTbu2</td>\n",
       "      <td>9jPK8KBWzjFmBx4Hb</td>\n",
       "      <td>1.0</td>\n",
       "      <td>2019-11-11 21:54:33</td>\n",
       "      <td>NaN</td>\n",
       "      <td>NaN</td>\n",
       "    </tr>\n",
       "    <tr>\n",
       "      <th>2</th>\n",
       "      <td>eyGu5DYCrnk58G2fJ</td>\n",
       "      <td>1.0</td>\n",
       "      <td>6.0</td>\n",
       "      <td>prop7Ok</td>\n",
       "      <td>/**\\n * Linear temporal logic revision exercis...</td>\n",
       "      <td>niLmMRmm94Hz6ymcD</td>\n",
       "      <td>9jPK8KBWzjFmBx4Hb</td>\n",
       "      <td>1.0</td>\n",
       "      <td>2020-12-1 11:55:11</td>\n",
       "      <td>NaN</td>\n",
       "      <td>NaN</td>\n",
       "    </tr>\n",
       "    <tr>\n",
       "      <th>3</th>\n",
       "      <td>Akbr9Aq6WfBLHrvE8</td>\n",
       "      <td>1.0</td>\n",
       "      <td>18.0</td>\n",
       "      <td>prop19Ok</td>\n",
       "      <td>/**\\n * Linear temporal logic revision exercis...</td>\n",
       "      <td>DnAm62D7JaqDzyy5y</td>\n",
       "      <td>9jPK8KBWzjFmBx4Hb</td>\n",
       "      <td>1.0</td>\n",
       "      <td>2020-11-26 10:33:29</td>\n",
       "      <td>NaN</td>\n",
       "      <td>NaN</td>\n",
       "    </tr>\n",
       "    <tr>\n",
       "      <th>4</th>\n",
       "      <td>MNegade3hLiutxCru</td>\n",
       "      <td>1.0</td>\n",
       "      <td>10.0</td>\n",
       "      <td>prop11Ok</td>\n",
       "      <td>/**\\n * Linear temporal logic revision exercis...</td>\n",
       "      <td>cjK4u23ZAfYm8fatA</td>\n",
       "      <td>9jPK8KBWzjFmBx4Hb</td>\n",
       "      <td>1.0</td>\n",
       "      <td>2020-1-19 17:06:22</td>\n",
       "      <td>NaN</td>\n",
       "      <td>NaN</td>\n",
       "    </tr>\n",
       "  </tbody>\n",
       "</table>\n",
       "</div>"
      ],
      "text/plain": [
       "                 _id  cmd_c  cmd_i     cmd_n  \\\n",
       "0  zKAYz8BCDmHKgNoSx    1.0    7.0   prop8Ok   \n",
       "1  8FmQ9PNWT2SXncTxX    1.0    9.0  prop10Ok   \n",
       "2  eyGu5DYCrnk58G2fJ    1.0    6.0   prop7Ok   \n",
       "3  Akbr9Aq6WfBLHrvE8    1.0   18.0  prop19Ok   \n",
       "4  MNegade3hLiutxCru    1.0   10.0  prop11Ok   \n",
       "\n",
       "                                                code       derivationOf  \\\n",
       "0  /**\\n * Linear temporal logic revision exercis...  dvhCng5AdxC8MqjFy   \n",
       "1  /**\\n * Linear temporal logic revision exercis...  5eT7wTw5kT8DwTbu2   \n",
       "2  /**\\n * Linear temporal logic revision exercis...  niLmMRmm94Hz6ymcD   \n",
       "3  /**\\n * Linear temporal logic revision exercis...  DnAm62D7JaqDzyy5y   \n",
       "4  /**\\n * Linear temporal logic revision exercis...  cjK4u23ZAfYm8fatA   \n",
       "\n",
       "            original  sat                 time  msg theme  \n",
       "0  9jPK8KBWzjFmBx4Hb  1.0  2020-12-13 23:28:11  NaN   NaN  \n",
       "1  9jPK8KBWzjFmBx4Hb  1.0  2019-11-11 21:54:33  NaN   NaN  \n",
       "2  9jPK8KBWzjFmBx4Hb  1.0   2020-12-1 11:55:11  NaN   NaN  \n",
       "3  9jPK8KBWzjFmBx4Hb  1.0  2020-11-26 10:33:29  NaN   NaN  \n",
       "4  9jPK8KBWzjFmBx4Hb  1.0   2020-1-19 17:06:22  NaN   NaN  "
      ]
     },
     "execution_count": 139,
     "metadata": {},
     "output_type": "execute_result"
    }
   ],
   "source": [
    "dict[\"9jP\"].head()"
   ]
  },
  {
   "attachments": {},
   "cell_type": "markdown",
   "metadata": {},
   "source": [
    "#### cmd_c feature"
   ]
  },
  {
   "cell_type": "code",
   "execution_count": 140,
   "metadata": {},
   "outputs": [
    {
     "name": "stdout",
     "output_type": "stream",
     "text": [
      "Counter({1.0: 21234, 0.0: 23})\n"
     ]
    },
    {
     "data": {
      "image/png": "[encoded data removed]",
      "text/plain": [
       "<Figure size 640x480 with 1 Axes>"
      ]
     },
     "metadata": {},
     "output_type": "display_data"
    }
   ],
   "source": [
    "import collections\n",
    "import matplotlib.pyplot as plt\n",
    "\n",
    "def countValues(dict, col):\n",
    "    # Count the values in a column\n",
    "    # df: dataframe\n",
    "    # col: column to count\n",
    "    # return: dataframe with the counts\n",
    "    totalCount = collections.Counter()\n",
    "\n",
    "    for df in dict.values():\n",
    "        count = df[col].value_counts().to_dict()\n",
    "        totalCount.update(count)        \n",
    "\n",
    "    return totalCount\n",
    "\n",
    "# Count the different values in the cmd_c column across all the dataframes\n",
    "print(countValues(dict, 'cmd_c'))\n",
    "\n",
    "plt.barh([str(k) for k in counter.keys()], counter.values())\n",
    "plt.show()\n"
   ]
  },
  {
   "attachments": {},
   "cell_type": "markdown",
   "metadata": {},
   "source": [
    "The number of 0 values for the column cmd_c is irrelevant. For that reason, entries with these values should be dropped."
   ]
  },
  {
   "cell_type": "code",
   "execution_count": 141,
   "metadata": {},
   "outputs": [
    {
     "name": "stdout",
     "output_type": "stream",
     "text": [
      "Counter({1.0: 21234})\n"
     ]
    }
   ],
   "source": [
    "# Remove the rows with the value 0 in the cmd_c column\n",
    "\n",
    "def operateDFs(dict, op, arg):\n",
    "    # Apply an operation to all the dataframes in a dictionary\n",
    "    # dict: dictionary of dataframes\n",
    "    # op: operation to perform on the dataframes\n",
    "    # arg: argument to pass to the operation\n",
    "    # return: dictionary of dataframe with the operation applied\n",
    "    for v in dict.values():\n",
    "        op(v, arg)\n",
    "\n",
    "dropRows = (lambda df, arg: df.drop(df[df[arg] == 0].index, inplace=True))\n",
    "operateDFs(dict, dropRows, 'cmd_c')\n",
    "\n",
    "# Count the different valued in the cmd_c column\n",
    "print(countValues(dict, 'cmd_c'))"
   ]
  },
  {
   "attachments": {},
   "cell_type": "markdown",
   "metadata": {},
   "source": [
    "#### original feature"
   ]
  },
  {
   "cell_type": "code",
   "execution_count": 142,
   "metadata": {},
   "outputs": [
    {
     "name": "stdout",
     "output_type": "stream",
     "text": [
      "{'9jPK8KBWzjFmBx4Hb': 5253}\n",
      "{'FwCGymHmbqcziisH5': 1247}\n",
      "{'gAeD3MTGCCv8YNTaK': 2280}\n",
      "{'JC8Tij8o8GZb99gEJ': 948}\n",
      "{'jyS8Bmceejj9pLbTW': 658}\n",
      "{'PQAJE67kz8w5NWJuM': 2857}\n",
      "{'sDLK7uBCbgZon3znd': 3279}\n",
      "{'WGdhwKZnCu7aKhXq9': 392}\n",
      "{'YH3ANm7Y5Qe5dSYem': 4738}\n",
      "{'zoEADeCW2b2suJB2k': 2597}\n",
      "{'zRAn69AocpkmxXZnW': 5311}\n",
      "\n"
     ]
    }
   ],
   "source": [
    "# Count the different values for the original column for each dataframe\n",
    "countValuesOp = (lambda df, arg: print(df[arg].value_counts().to_dict()))\n",
    "operateDFs(dict, countValuesOp, 'original')\n",
    "print(\"\")"
   ]
  },
  {
   "attachments": {},
   "cell_type": "markdown",
   "metadata": {},
   "source": [
    "Every dataframe has the same value for the original column. This column is irrelevant."
   ]
  },
  {
   "attachments": {},
   "cell_type": "markdown",
   "metadata": {},
   "source": [
    "#### cmd_n feature"
   ]
  },
  {
   "attachments": {},
   "cell_type": "markdown",
   "metadata": {},
   "source": [
    "First step is to encode the categorical value."
   ]
  },
  {
   "cell_type": "code",
   "execution_count": 143,
   "metadata": {},
   "outputs": [
    {
     "data": {
      "text/html": [
       "<div>\n",
       "<style scoped>\n",
       "    .dataframe tbody tr th:only-of-type {\n",
       "        vertical-align: middle;\n",
       "    }\n",
       "\n",
       "    .dataframe tbody tr th {\n",
       "        vertical-align: top;\n",
       "    }\n",
       "\n",
       "    .dataframe thead th {\n",
       "        text-align: right;\n",
       "    }\n",
       "</style>\n",
       "<table border=\"1\" class=\"dataframe\">\n",
       "  <thead>\n",
       "    <tr style=\"text-align: right;\">\n",
       "      <th></th>\n",
       "      <th>_id</th>\n",
       "      <th>cmd_c</th>\n",
       "      <th>cmd_i</th>\n",
       "      <th>cmd_n</th>\n",
       "      <th>code</th>\n",
       "      <th>derivationOf</th>\n",
       "      <th>original</th>\n",
       "      <th>sat</th>\n",
       "      <th>time</th>\n",
       "      <th>msg</th>\n",
       "      <th>theme</th>\n",
       "    </tr>\n",
       "  </thead>\n",
       "  <tbody>\n",
       "    <tr>\n",
       "      <th>0</th>\n",
       "      <td>zKAYz8BCDmHKgNoSx</td>\n",
       "      <td>1.0</td>\n",
       "      <td>7.0</td>\n",
       "      <td>18.0</td>\n",
       "      <td>/**\\n * Linear temporal logic revision exercis...</td>\n",
       "      <td>dvhCng5AdxC8MqjFy</td>\n",
       "      <td>9jPK8KBWzjFmBx4Hb</td>\n",
       "      <td>1.0</td>\n",
       "      <td>2020-12-13 23:28:11</td>\n",
       "      <td>NaN</td>\n",
       "      <td>NaN</td>\n",
       "    </tr>\n",
       "    <tr>\n",
       "      <th>1</th>\n",
       "      <td>8FmQ9PNWT2SXncTxX</td>\n",
       "      <td>1.0</td>\n",
       "      <td>9.0</td>\n",
       "      <td>0.0</td>\n",
       "      <td>/**\\n * Linear temporal logic revision exercis...</td>\n",
       "      <td>5eT7wTw5kT8DwTbu2</td>\n",
       "      <td>9jPK8KBWzjFmBx4Hb</td>\n",
       "      <td>1.0</td>\n",
       "      <td>2019-11-11 21:54:33</td>\n",
       "      <td>NaN</td>\n",
       "      <td>NaN</td>\n",
       "    </tr>\n",
       "    <tr>\n",
       "      <th>2</th>\n",
       "      <td>eyGu5DYCrnk58G2fJ</td>\n",
       "      <td>1.0</td>\n",
       "      <td>6.0</td>\n",
       "      <td>17.0</td>\n",
       "      <td>/**\\n * Linear temporal logic revision exercis...</td>\n",
       "      <td>niLmMRmm94Hz6ymcD</td>\n",
       "      <td>9jPK8KBWzjFmBx4Hb</td>\n",
       "      <td>1.0</td>\n",
       "      <td>2020-12-1 11:55:11</td>\n",
       "      <td>NaN</td>\n",
       "      <td>NaN</td>\n",
       "    </tr>\n",
       "    <tr>\n",
       "      <th>3</th>\n",
       "      <td>Akbr9Aq6WfBLHrvE8</td>\n",
       "      <td>1.0</td>\n",
       "      <td>18.0</td>\n",
       "      <td>9.0</td>\n",
       "      <td>/**\\n * Linear temporal logic revision exercis...</td>\n",
       "      <td>DnAm62D7JaqDzyy5y</td>\n",
       "      <td>9jPK8KBWzjFmBx4Hb</td>\n",
       "      <td>1.0</td>\n",
       "      <td>2020-11-26 10:33:29</td>\n",
       "      <td>NaN</td>\n",
       "      <td>NaN</td>\n",
       "    </tr>\n",
       "    <tr>\n",
       "      <th>4</th>\n",
       "      <td>MNegade3hLiutxCru</td>\n",
       "      <td>1.0</td>\n",
       "      <td>10.0</td>\n",
       "      <td>1.0</td>\n",
       "      <td>/**\\n * Linear temporal logic revision exercis...</td>\n",
       "      <td>cjK4u23ZAfYm8fatA</td>\n",
       "      <td>9jPK8KBWzjFmBx4Hb</td>\n",
       "      <td>1.0</td>\n",
       "      <td>2020-1-19 17:06:22</td>\n",
       "      <td>NaN</td>\n",
       "      <td>NaN</td>\n",
       "    </tr>\n",
       "  </tbody>\n",
       "</table>\n",
       "</div>"
      ],
      "text/plain": [
       "                 _id  cmd_c  cmd_i  cmd_n  \\\n",
       "0  zKAYz8BCDmHKgNoSx    1.0    7.0   18.0   \n",
       "1  8FmQ9PNWT2SXncTxX    1.0    9.0    0.0   \n",
       "2  eyGu5DYCrnk58G2fJ    1.0    6.0   17.0   \n",
       "3  Akbr9Aq6WfBLHrvE8    1.0   18.0    9.0   \n",
       "4  MNegade3hLiutxCru    1.0   10.0    1.0   \n",
       "\n",
       "                                                code       derivationOf  \\\n",
       "0  /**\\n * Linear temporal logic revision exercis...  dvhCng5AdxC8MqjFy   \n",
       "1  /**\\n * Linear temporal logic revision exercis...  5eT7wTw5kT8DwTbu2   \n",
       "2  /**\\n * Linear temporal logic revision exercis...  niLmMRmm94Hz6ymcD   \n",
       "3  /**\\n * Linear temporal logic revision exercis...  DnAm62D7JaqDzyy5y   \n",
       "4  /**\\n * Linear temporal logic revision exercis...  cjK4u23ZAfYm8fatA   \n",
       "\n",
       "            original  sat                 time  msg theme  \n",
       "0  9jPK8KBWzjFmBx4Hb  1.0  2020-12-13 23:28:11  NaN   NaN  \n",
       "1  9jPK8KBWzjFmBx4Hb  1.0  2019-11-11 21:54:33  NaN   NaN  \n",
       "2  9jPK8KBWzjFmBx4Hb  1.0   2020-12-1 11:55:11  NaN   NaN  \n",
       "3  9jPK8KBWzjFmBx4Hb  1.0  2020-11-26 10:33:29  NaN   NaN  \n",
       "4  9jPK8KBWzjFmBx4Hb  1.0   2020-1-19 17:06:22  NaN   NaN  "
      ]
     },
     "execution_count": 143,
     "metadata": {},
     "output_type": "execute_result"
    }
   ],
   "source": [
    "from sklearn.preprocessing import OrdinalEncoder\n",
    "\n",
    "# Encode the cmd_n column\n",
    "enc = OrdinalEncoder()\n",
    "enc.fit(dict[\"9jP\"]['cmd_n'].values.reshape(-1, 1))\n",
    "dict[\"9jP\"][\"cmd_n\"] = enc.transform(dict[\"9jP\"][\"cmd_n\"].values.reshape(-1, 1))\n",
    "\n",
    "dict[\"9jP\"].head()\n",
    "#print(dict[\"9jP\"][\"cmd_n\"].corr(dict[\"9jP\"][\"cmd_i\"]))\n"
   ]
  },
  {
   "cell_type": "code",
   "execution_count": 144,
   "metadata": {},
   "outputs": [
    {
     "name": "stderr",
     "output_type": "stream",
     "text": [
      "C:\\Users\\anaio\\AppData\\Local\\Temp\\ipykernel_14604\\2548704399.py:3: FutureWarning: The default value of numeric_only in DataFrame.corr is deprecated. In a future version, it will default to False. Select only valid columns or specify the value of numeric_only to silence this warning.\n",
      "  cor = dict[\"9jP\"].corr()\n"
     ]
    },
    {
     "data": {
      "image/png": "[encoded data removed]",
      "text/plain": [
       "<Figure size 1200x1000 with 2 Axes>"
      ]
     },
     "metadata": {},
     "output_type": "display_data"
    }
   ],
   "source": []
  },
  {
   "attachments": {},
   "cell_type": "markdown",
   "metadata": {},
   "source": [
    "Now we will drop the irrelevant columns. "
   ]
  },
  {
   "cell_type": "code",
   "execution_count": 103,
   "metadata": {},
   "outputs": [
    {
     "data": {
      "text/html": [
       "<div>\n",
       "<style scoped>\n",
       "    .dataframe tbody tr th:only-of-type {\n",
       "        vertical-align: middle;\n",
       "    }\n",
       "\n",
       "    .dataframe tbody tr th {\n",
       "        vertical-align: top;\n",
       "    }\n",
       "\n",
       "    .dataframe thead th {\n",
       "        text-align: right;\n",
       "    }\n",
       "</style>\n",
       "<table border=\"1\" class=\"dataframe\">\n",
       "  <thead>\n",
       "    <tr style=\"text-align: right;\">\n",
       "      <th></th>\n",
       "      <th>_id</th>\n",
       "      <th>cmd_i</th>\n",
       "      <th>cmd_n</th>\n",
       "      <th>code</th>\n",
       "      <th>derivationOf</th>\n",
       "      <th>sat</th>\n",
       "    </tr>\n",
       "  </thead>\n",
       "  <tbody>\n",
       "    <tr>\n",
       "      <th>0</th>\n",
       "      <td>zKAYz8BCDmHKgNoSx</td>\n",
       "      <td>7.0</td>\n",
       "      <td>prop8Ok</td>\n",
       "      <td>/**\\n * Linear temporal logic revision exercis...</td>\n",
       "      <td>dvhCng5AdxC8MqjFy</td>\n",
       "      <td>1.0</td>\n",
       "    </tr>\n",
       "    <tr>\n",
       "      <th>1</th>\n",
       "      <td>8FmQ9PNWT2SXncTxX</td>\n",
       "      <td>9.0</td>\n",
       "      <td>prop10Ok</td>\n",
       "      <td>/**\\n * Linear temporal logic revision exercis...</td>\n",
       "      <td>5eT7wTw5kT8DwTbu2</td>\n",
       "      <td>1.0</td>\n",
       "    </tr>\n",
       "    <tr>\n",
       "      <th>2</th>\n",
       "      <td>eyGu5DYCrnk58G2fJ</td>\n",
       "      <td>6.0</td>\n",
       "      <td>prop7Ok</td>\n",
       "      <td>/**\\n * Linear temporal logic revision exercis...</td>\n",
       "      <td>niLmMRmm94Hz6ymcD</td>\n",
       "      <td>1.0</td>\n",
       "    </tr>\n",
       "    <tr>\n",
       "      <th>3</th>\n",
       "      <td>Akbr9Aq6WfBLHrvE8</td>\n",
       "      <td>18.0</td>\n",
       "      <td>prop19Ok</td>\n",
       "      <td>/**\\n * Linear temporal logic revision exercis...</td>\n",
       "      <td>DnAm62D7JaqDzyy5y</td>\n",
       "      <td>1.0</td>\n",
       "    </tr>\n",
       "    <tr>\n",
       "      <th>4</th>\n",
       "      <td>MNegade3hLiutxCru</td>\n",
       "      <td>10.0</td>\n",
       "      <td>prop11Ok</td>\n",
       "      <td>/**\\n * Linear temporal logic revision exercis...</td>\n",
       "      <td>cjK4u23ZAfYm8fatA</td>\n",
       "      <td>1.0</td>\n",
       "    </tr>\n",
       "  </tbody>\n",
       "</table>\n",
       "</div>"
      ],
      "text/plain": [
       "                 _id  cmd_i     cmd_n  \\\n",
       "0  zKAYz8BCDmHKgNoSx    7.0   prop8Ok   \n",
       "1  8FmQ9PNWT2SXncTxX    9.0  prop10Ok   \n",
       "2  eyGu5DYCrnk58G2fJ    6.0   prop7Ok   \n",
       "3  Akbr9Aq6WfBLHrvE8   18.0  prop19Ok   \n",
       "4  MNegade3hLiutxCru   10.0  prop11Ok   \n",
       "\n",
       "                                                code       derivationOf  sat  \n",
       "0  /**\\n * Linear temporal logic revision exercis...  dvhCng5AdxC8MqjFy  1.0  \n",
       "1  /**\\n * Linear temporal logic revision exercis...  5eT7wTw5kT8DwTbu2  1.0  \n",
       "2  /**\\n * Linear temporal logic revision exercis...  niLmMRmm94Hz6ymcD  1.0  \n",
       "3  /**\\n * Linear temporal logic revision exercis...  DnAm62D7JaqDzyy5y  1.0  \n",
       "4  /**\\n * Linear temporal logic revision exercis...  cjK4u23ZAfYm8fatA  1.0  "
      ]
     },
     "execution_count": 103,
     "metadata": {},
     "output_type": "execute_result"
    }
   ],
   "source": [
    "# Drop columns that are not needed\n",
    "dropColOp = (lambda df, arg: df.drop(columns=arg, axis=1, inplace=True))\n",
    "operateDFs(dict, dropColOp, [\"cmd_c\", \"original\", \"time\", \"msg\", \"theme\"])\n",
    "\n",
    "dict[\"9jP\"].head()"
   ]
  }
 ],
 "metadata": {
  "kernelspec": {
   "display_name": "Python 3",
   "language": "python",
   "name": "python3"
  },
  "language_info": {
   "codemirror_mode": {
    "name": "ipython",
    "version": 3
   },
   "file_extension": ".py",
   "mimetype": "text/x-python",
   "name": "python",
   "nbconvert_exporter": "python",
   "pygments_lexer": "ipython3",
   "version": "3.10.5"
  },
  "orig_nbformat": 4,
  "vscode": {
   "interpreter": {
    "hash": "26de051ba29f2982a8de78e945f0abaf191376122a1563185a90213a26c5da77"
   }
  }
 },
 "nbformat": 4,
 "nbformat_minor": 2
}
