{
 "cells": [
  {
   "attachments": {},
   "cell_type": "markdown",
   "metadata": {},
   "source": [
    "# Alloy4Fun Data"
   ]
  },
  {
   "attachments": {},
   "cell_type": "markdown",
   "metadata": {},
   "source": [
    "## Import Data"
   ]
  },
  {
   "cell_type": "code",
   "execution_count": 5,
   "metadata": {},
   "outputs": [],
   "source": [
    "import pandas as pd, os \n",
    "\n",
    "def importDataFromDir(dir):\n",
    "    # Import all the data from a directory\n",
    "    # dir: directory with the data\n",
    "    # return: a dictionary of dataframes\n",
    "    dict = {}\n",
    "\n",
    "    for file in os.listdir(dir):\n",
    "        if file.endswith('.json'):\n",
    "            df = pd.read_json(f'{dir}/' + file, lines=True)\n",
    "            dict[file.removesuffix(\".json\")[0:3]] = df\n",
    "            print(f\"Imported {file}.\")\n",
    "\n",
    "    return dict"
   ]
  },
  {
   "cell_type": "code",
   "execution_count": 6,
   "metadata": {},
   "outputs": [
    {
     "name": "stdout",
     "output_type": "stream",
     "text": [
      "Imported 9jPK8KBWzjFmBx4Hb.json.\n",
      "Imported FwCGymHmbqcziisH5.json.\n",
      "Imported gAeD3MTGCCv8YNTaK.json.\n",
      "Imported JC8Tij8o8GZb99gEJ.json.\n",
      "Imported jyS8Bmceejj9pLbTW.json.\n",
      "Imported PQAJE67kz8w5NWJuM.json.\n",
      "Imported sDLK7uBCbgZon3znd.json.\n",
      "Imported WGdhwKZnCu7aKhXq9.json.\n",
      "Imported YH3ANm7Y5Qe5dSYem.json.\n",
      "Imported zoEADeCW2b2suJB2k.json.\n",
      "Imported zRAn69AocpkmxXZnW.json.\n",
      "11\n"
     ]
    }
   ],
   "source": [
    "# Import files from the data directory\n",
    "\n",
    "dict = importDataFromDir('data')\n"
   ]
  }
 ],
 "metadata": {
  "kernelspec": {
   "display_name": "Python 3",
   "language": "python",
   "name": "python3"
  },
  "language_info": {
   "codemirror_mode": {
    "name": "ipython",
    "version": 3
   },
   "file_extension": ".py",
   "mimetype": "text/x-python",
   "name": "python",
   "nbconvert_exporter": "python",
   "pygments_lexer": "ipython3",
   "version": "3.10.5"
  },
  "orig_nbformat": 4,
  "vscode": {
   "interpreter": {
    "hash": "26de051ba29f2982a8de78e945f0abaf191376122a1563185a90213a26c5da77"
   }
  }
 },
 "nbformat": 4,
 "nbformat_minor": 2
}
