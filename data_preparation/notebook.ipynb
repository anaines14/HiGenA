{
 "cells": [
  {
   "cell_type": "markdown",
   "metadata": {},
   "source": [
    "# Alloy4Fun Data"
   ]
  },
  {
   "cell_type": "markdown",
   "metadata": {},
   "source": [
    "## Import Data"
   ]
  },
  {
   "cell_type": "code",
   "execution_count": 1,
   "metadata": {},
   "outputs": [],
   "source": [
    "import pandas as pd, os \n",
    "import numpy as np\n",
    "import collections\n",
    "import matplotlib.pyplot as plt\n",
    "\n",
    "def importDataFromDir(dir):\n",
    "    # Import all the data from a directory\n",
    "    # dir: directory with the data\n",
    "    # return: a dictionary of dataframes\n",
    "    dict = {}\n",
    "\n",
    "    for file in os.listdir(dir):\n",
    "        if file.endswith('.json'):\n",
    "            df = pd.read_json(f'{dir}/' + file, lines=True)\n",
    "            dict[file.removesuffix(\".json\")] = df\n",
    "            print(f\"Imported {file}.\")\n",
    "\n",
    "    return dict"
   ]
  },
  {
   "cell_type": "code",
   "execution_count": 2,
   "metadata": {},
   "outputs": [
    {
     "name": "stdout",
     "output_type": "stream",
     "text": [
      "Imported 9jPK8KBWzjFmBx4Hb.json.\n",
      "Imported FwCGymHmbqcziisH5.json.\n",
      "Imported gAeD3MTGCCv8YNTaK.json.\n",
      "Imported JC8Tij8o8GZb99gEJ.json.\n",
      "Imported jyS8Bmceejj9pLbTW.json.\n",
      "Imported PQAJE67kz8w5NWJuM.json.\n",
      "Imported sDLK7uBCbgZon3znd.json.\n",
      "Imported WGdhwKZnCu7aKhXq9.json.\n",
      "Imported YH3ANm7Y5Qe5dSYem.json.\n",
      "Imported zoEADeCW2b2suJB2k.json.\n",
      "Imported zRAn69AocpkmxXZnW.json.\n"
     ]
    }
   ],
   "source": [
    "# Import files from the data directory\n",
    "dict = importDataFromDir('data/submissions')"
   ]
  },
  {
   "cell_type": "markdown",
   "metadata": {},
   "source": [
    "## Data Cleaning"
   ]
  },
  {
   "cell_type": "markdown",
   "metadata": {},
   "source": [
    "### Check null values"
   ]
  },
  {
   "cell_type": "code",
   "execution_count": 3,
   "metadata": {},
   "outputs": [
    {
     "data": {
      "text/html": [
       "<div>\n",
       "<style scoped>\n",
       "    .dataframe tbody tr th:only-of-type {\n",
       "        vertical-align: middle;\n",
       "    }\n",
       "\n",
       "    .dataframe tbody tr th {\n",
       "        vertical-align: top;\n",
       "    }\n",
       "\n",
       "    .dataframe thead th {\n",
       "        text-align: right;\n",
       "    }\n",
       "</style>\n",
       "<table border=\"1\" class=\"dataframe\">\n",
       "  <thead>\n",
       "    <tr style=\"text-align: right;\">\n",
       "      <th></th>\n",
       "      <th>_id</th>\n",
       "      <th>cmd_c</th>\n",
       "      <th>cmd_i</th>\n",
       "      <th>cmd_n</th>\n",
       "      <th>code</th>\n",
       "      <th>derivationOf</th>\n",
       "      <th>original</th>\n",
       "      <th>sat</th>\n",
       "      <th>time</th>\n",
       "      <th>msg</th>\n",
       "      <th>theme</th>\n",
       "    </tr>\n",
       "  </thead>\n",
       "  <tbody>\n",
       "    <tr>\n",
       "      <th>0</th>\n",
       "      <td>zKAYz8BCDmHKgNoSx</td>\n",
       "      <td>1.0</td>\n",
       "      <td>7.0</td>\n",
       "      <td>prop8Ok</td>\n",
       "      <td>/**\\n * Linear temporal logic revision exercis...</td>\n",
       "      <td>dvhCng5AdxC8MqjFy</td>\n",
       "      <td>9jPK8KBWzjFmBx4Hb</td>\n",
       "      <td>1.0</td>\n",
       "      <td>2020-12-13 23:28:11</td>\n",
       "      <td>NaN</td>\n",
       "      <td>NaN</td>\n",
       "    </tr>\n",
       "    <tr>\n",
       "      <th>1</th>\n",
       "      <td>8FmQ9PNWT2SXncTxX</td>\n",
       "      <td>1.0</td>\n",
       "      <td>9.0</td>\n",
       "      <td>prop10Ok</td>\n",
       "      <td>/**\\n * Linear temporal logic revision exercis...</td>\n",
       "      <td>5eT7wTw5kT8DwTbu2</td>\n",
       "      <td>9jPK8KBWzjFmBx4Hb</td>\n",
       "      <td>1.0</td>\n",
       "      <td>2019-11-11 21:54:33</td>\n",
       "      <td>NaN</td>\n",
       "      <td>NaN</td>\n",
       "    </tr>\n",
       "    <tr>\n",
       "      <th>2</th>\n",
       "      <td>eyGu5DYCrnk58G2fJ</td>\n",
       "      <td>1.0</td>\n",
       "      <td>6.0</td>\n",
       "      <td>prop7Ok</td>\n",
       "      <td>/**\\n * Linear temporal logic revision exercis...</td>\n",
       "      <td>niLmMRmm94Hz6ymcD</td>\n",
       "      <td>9jPK8KBWzjFmBx4Hb</td>\n",
       "      <td>1.0</td>\n",
       "      <td>2020-12-1 11:55:11</td>\n",
       "      <td>NaN</td>\n",
       "      <td>NaN</td>\n",
       "    </tr>\n",
       "    <tr>\n",
       "      <th>3</th>\n",
       "      <td>Akbr9Aq6WfBLHrvE8</td>\n",
       "      <td>1.0</td>\n",
       "      <td>18.0</td>\n",
       "      <td>prop19Ok</td>\n",
       "      <td>/**\\n * Linear temporal logic revision exercis...</td>\n",
       "      <td>DnAm62D7JaqDzyy5y</td>\n",
       "      <td>9jPK8KBWzjFmBx4Hb</td>\n",
       "      <td>1.0</td>\n",
       "      <td>2020-11-26 10:33:29</td>\n",
       "      <td>NaN</td>\n",
       "      <td>NaN</td>\n",
       "    </tr>\n",
       "    <tr>\n",
       "      <th>4</th>\n",
       "      <td>MNegade3hLiutxCru</td>\n",
       "      <td>1.0</td>\n",
       "      <td>10.0</td>\n",
       "      <td>prop11Ok</td>\n",
       "      <td>/**\\n * Linear temporal logic revision exercis...</td>\n",
       "      <td>cjK4u23ZAfYm8fatA</td>\n",
       "      <td>9jPK8KBWzjFmBx4Hb</td>\n",
       "      <td>1.0</td>\n",
       "      <td>2020-1-19 17:06:22</td>\n",
       "      <td>NaN</td>\n",
       "      <td>NaN</td>\n",
       "    </tr>\n",
       "  </tbody>\n",
       "</table>\n",
       "</div>"
      ],
      "text/plain": [
       "                 _id  cmd_c  cmd_i     cmd_n  \\\n",
       "0  zKAYz8BCDmHKgNoSx    1.0    7.0   prop8Ok   \n",
       "1  8FmQ9PNWT2SXncTxX    1.0    9.0  prop10Ok   \n",
       "2  eyGu5DYCrnk58G2fJ    1.0    6.0   prop7Ok   \n",
       "3  Akbr9Aq6WfBLHrvE8    1.0   18.0  prop19Ok   \n",
       "4  MNegade3hLiutxCru    1.0   10.0  prop11Ok   \n",
       "\n",
       "                                                code       derivationOf  \\\n",
       "0  /**\\n * Linear temporal logic revision exercis...  dvhCng5AdxC8MqjFy   \n",
       "1  /**\\n * Linear temporal logic revision exercis...  5eT7wTw5kT8DwTbu2   \n",
       "2  /**\\n * Linear temporal logic revision exercis...  niLmMRmm94Hz6ymcD   \n",
       "3  /**\\n * Linear temporal logic revision exercis...  DnAm62D7JaqDzyy5y   \n",
       "4  /**\\n * Linear temporal logic revision exercis...  cjK4u23ZAfYm8fatA   \n",
       "\n",
       "            original  sat                 time  msg theme  \n",
       "0  9jPK8KBWzjFmBx4Hb  1.0  2020-12-13 23:28:11  NaN   NaN  \n",
       "1  9jPK8KBWzjFmBx4Hb  1.0  2019-11-11 21:54:33  NaN   NaN  \n",
       "2  9jPK8KBWzjFmBx4Hb  1.0   2020-12-1 11:55:11  NaN   NaN  \n",
       "3  9jPK8KBWzjFmBx4Hb  1.0  2020-11-26 10:33:29  NaN   NaN  \n",
       "4  9jPK8KBWzjFmBx4Hb  1.0   2020-1-19 17:06:22  NaN   NaN  "
      ]
     },
     "execution_count": 3,
     "metadata": {},
     "output_type": "execute_result"
    }
   ],
   "source": [
    "df1 = dict[\"9jPK8KBWzjFmBx4Hb\"]\n",
    "df1.head()"
   ]
  },
  {
   "cell_type": "code",
   "execution_count": 4,
   "metadata": {},
   "outputs": [
    {
     "data": {
      "text/plain": [
       "_id                0\n",
       "cmd_c            915\n",
       "cmd_i             35\n",
       "cmd_n            915\n",
       "code               0\n",
       "derivationOf       0\n",
       "original           0\n",
       "sat               35\n",
       "time               0\n",
       "msg             4353\n",
       "theme           5218\n",
       "dtype: int64"
      ]
     },
     "execution_count": 4,
     "metadata": {},
     "output_type": "execute_result"
    }
   ],
   "source": [
    "\n",
    "df1.isnull().sum()"
   ]
  },
  {
   "cell_type": "markdown",
   "metadata": {},
   "source": [
    "Features meaning:\n",
    "- _id: the id of the interaction\n",
    "- time: the timestamp of its creation\n",
    "- derivationOf: the parent entry\n",
    "- original: the first ancestor with secrets (always the same within an exercise)\n",
    "- code: the complete code of the model (excluding the secrets defined in the original entry) (with student comments removed)\n",
    "- sat: whether the command was satisfiable (counter-example found for checks), or -1 when error thrown [only for executions]\n",
    "- cmd_i: the index of the executed command [only for executions]\n",
    "- cmd_n: the name of the executed command [only for successful executions, i.e. no error thrown]\n",
    "- cmd_c: whether the command was a check [only for successful executions, i.e. no error thrown]\n",
    "- msg: the error or warning message [only for successful executions with warnings or when error thrown]\n",
    "- theme: the visualisation theme [only for sharing entries"
   ]
  },
  {
   "cell_type": "markdown",
   "metadata": {},
   "source": [
    "#### cmd_i null values\n",
    "\n",
    "cmd_i is null for non-executions. "
   ]
  },
  {
   "cell_type": "code",
   "execution_count": 5,
   "metadata": {},
   "outputs": [
    {
     "data": {
      "text/html": [
       "<div>\n",
       "<style scoped>\n",
       "    .dataframe tbody tr th:only-of-type {\n",
       "        vertical-align: middle;\n",
       "    }\n",
       "\n",
       "    .dataframe tbody tr th {\n",
       "        vertical-align: top;\n",
       "    }\n",
       "\n",
       "    .dataframe thead th {\n",
       "        text-align: right;\n",
       "    }\n",
       "</style>\n",
       "<table border=\"1\" class=\"dataframe\">\n",
       "  <thead>\n",
       "    <tr style=\"text-align: right;\">\n",
       "      <th></th>\n",
       "      <th>_id</th>\n",
       "      <th>cmd_c</th>\n",
       "      <th>cmd_i</th>\n",
       "      <th>cmd_n</th>\n",
       "      <th>code</th>\n",
       "      <th>derivationOf</th>\n",
       "      <th>original</th>\n",
       "      <th>sat</th>\n",
       "      <th>time</th>\n",
       "      <th>msg</th>\n",
       "      <th>theme</th>\n",
       "    </tr>\n",
       "  </thead>\n",
       "  <tbody>\n",
       "    <tr>\n",
       "      <th>32</th>\n",
       "      <td>P3gFuEkajduWTyFeo</td>\n",
       "      <td>NaN</td>\n",
       "      <td>NaN</td>\n",
       "      <td>NaN</td>\n",
       "      <td>/**\\n * Linear temporal logic revision exercis...</td>\n",
       "      <td>6YmxWkc8PtXEqdafi</td>\n",
       "      <td>9jPK8KBWzjFmBx4Hb</td>\n",
       "      <td>NaN</td>\n",
       "      <td>2019-10-31 11:47:23</td>\n",
       "      <td>NaN</td>\n",
       "      <td>{'currentFramePosition': {}, 'currentlyProject...</td>\n",
       "    </tr>\n",
       "    <tr>\n",
       "      <th>159</th>\n",
       "      <td>K2ejbWj7HT3mSFdym</td>\n",
       "      <td>NaN</td>\n",
       "      <td>NaN</td>\n",
       "      <td>NaN</td>\n",
       "      <td>/**\\n * Linear temporal logic revision exercis...</td>\n",
       "      <td>4zDygwoYWF7AAqHv8</td>\n",
       "      <td>9jPK8KBWzjFmBx4Hb</td>\n",
       "      <td>NaN</td>\n",
       "      <td>2020-1-3 13:48:36</td>\n",
       "      <td>NaN</td>\n",
       "      <td>{'currentFramePosition': {}, 'currentlyProject...</td>\n",
       "    </tr>\n",
       "    <tr>\n",
       "      <th>301</th>\n",
       "      <td>MdZs9uee25QgFwvi7</td>\n",
       "      <td>NaN</td>\n",
       "      <td>NaN</td>\n",
       "      <td>NaN</td>\n",
       "      <td>/**\\n * Linear temporal logic revision exercis...</td>\n",
       "      <td>kb8KrpANCxg9XXcLs</td>\n",
       "      <td>9jPK8KBWzjFmBx4Hb</td>\n",
       "      <td>NaN</td>\n",
       "      <td>2019-10-31 11:48:12</td>\n",
       "      <td>NaN</td>\n",
       "      <td>{'currentFramePosition': {}, 'currentlyProject...</td>\n",
       "    </tr>\n",
       "    <tr>\n",
       "      <th>337</th>\n",
       "      <td>fWKpSLkdPZPxkSoJe</td>\n",
       "      <td>NaN</td>\n",
       "      <td>NaN</td>\n",
       "      <td>NaN</td>\n",
       "      <td>/**\\n * Linear temporal logic revision exercis...</td>\n",
       "      <td>8KGv5F6b8ySPofNdJ</td>\n",
       "      <td>9jPK8KBWzjFmBx4Hb</td>\n",
       "      <td>NaN</td>\n",
       "      <td>2019-10-31 11:52:15</td>\n",
       "      <td>NaN</td>\n",
       "      <td>{'currentFramePosition': {}, 'currentlyProject...</td>\n",
       "    </tr>\n",
       "    <tr>\n",
       "      <th>353</th>\n",
       "      <td>ggNDTsgGfpet9HqvY</td>\n",
       "      <td>NaN</td>\n",
       "      <td>NaN</td>\n",
       "      <td>NaN</td>\n",
       "      <td>/**\\n * Linear temporal logic revision exercis...</td>\n",
       "      <td>NdNtvRAx8r85Fivh8</td>\n",
       "      <td>9jPK8KBWzjFmBx4Hb</td>\n",
       "      <td>NaN</td>\n",
       "      <td>2020-11-24 01:32:37</td>\n",
       "      <td>NaN</td>\n",
       "      <td>{'currentFramePosition': {}, 'currentlyProject...</td>\n",
       "    </tr>\n",
       "  </tbody>\n",
       "</table>\n",
       "</div>"
      ],
      "text/plain": [
       "                   _id  cmd_c  cmd_i cmd_n  \\\n",
       "32   P3gFuEkajduWTyFeo    NaN    NaN   NaN   \n",
       "159  K2ejbWj7HT3mSFdym    NaN    NaN   NaN   \n",
       "301  MdZs9uee25QgFwvi7    NaN    NaN   NaN   \n",
       "337  fWKpSLkdPZPxkSoJe    NaN    NaN   NaN   \n",
       "353  ggNDTsgGfpet9HqvY    NaN    NaN   NaN   \n",
       "\n",
       "                                                  code       derivationOf  \\\n",
       "32   /**\\n * Linear temporal logic revision exercis...  6YmxWkc8PtXEqdafi   \n",
       "159  /**\\n * Linear temporal logic revision exercis...  4zDygwoYWF7AAqHv8   \n",
       "301  /**\\n * Linear temporal logic revision exercis...  kb8KrpANCxg9XXcLs   \n",
       "337  /**\\n * Linear temporal logic revision exercis...  8KGv5F6b8ySPofNdJ   \n",
       "353  /**\\n * Linear temporal logic revision exercis...  NdNtvRAx8r85Fivh8   \n",
       "\n",
       "              original  sat                 time  msg  \\\n",
       "32   9jPK8KBWzjFmBx4Hb  NaN  2019-10-31 11:47:23  NaN   \n",
       "159  9jPK8KBWzjFmBx4Hb  NaN    2020-1-3 13:48:36  NaN   \n",
       "301  9jPK8KBWzjFmBx4Hb  NaN  2019-10-31 11:48:12  NaN   \n",
       "337  9jPK8KBWzjFmBx4Hb  NaN  2019-10-31 11:52:15  NaN   \n",
       "353  9jPK8KBWzjFmBx4Hb  NaN  2020-11-24 01:32:37  NaN   \n",
       "\n",
       "                                                 theme  \n",
       "32   {'currentFramePosition': {}, 'currentlyProject...  \n",
       "159  {'currentFramePosition': {}, 'currentlyProject...  \n",
       "301  {'currentFramePosition': {}, 'currentlyProject...  \n",
       "337  {'currentFramePosition': {}, 'currentlyProject...  \n",
       "353  {'currentFramePosition': {}, 'currentlyProject...  "
      ]
     },
     "execution_count": 5,
     "metadata": {},
     "output_type": "execute_result"
    }
   ],
   "source": [
    "# Filter rows with cmd_i = null\n",
    "nullDF = df1[df1[\"cmd_i\"].isnull()]\n",
    "nullDF.head()\n"
   ]
  },
  {
   "cell_type": "code",
   "execution_count": 6,
   "metadata": {},
   "outputs": [
    {
     "name": "stdout",
     "output_type": "stream",
     "text": [
      "Rows with cmd_i null:  35\n",
      "Rows with sat null:  35\n",
      "Rows with cmd_c null :  35\n",
      "Rows with cmd_n null :  35\n",
      "Rows with theme null :  0\n"
     ]
    }
   ],
   "source": [
    "print(\"Rows with cmd_i null: \", len(nullDF))\n",
    "print(\"Rows with sat null: \", len(nullDF[nullDF[\"sat\"].isnull()]))\n",
    "print(\"Rows with cmd_c null : \", len(nullDF[nullDF[\"cmd_c\"].isnull()]))\n",
    "print(\"Rows with cmd_n null : \", len(nullDF[nullDF[\"cmd_n\"].isnull()]))\n",
    "print(\"Rows with theme null : \", len(nullDF[nullDF[\"theme\"].isnull()]))"
   ]
  },
  {
   "cell_type": "markdown",
   "metadata": {},
   "source": [
    "Whenever cmd_i is null it means that there was no execution. It is the sharing of a model. This cases might be irrelevant to the problem so they can be dropped."
   ]
  },
  {
   "cell_type": "code",
   "execution_count": 7,
   "metadata": {},
   "outputs": [
    {
     "data": {
      "text/plain": [
       "_id                0\n",
       "cmd_c            880\n",
       "cmd_i              0\n",
       "cmd_n            880\n",
       "code               0\n",
       "derivationOf       0\n",
       "original           0\n",
       "sat                0\n",
       "time               0\n",
       "msg             4318\n",
       "theme           5218\n",
       "dtype: int64"
      ]
     },
     "execution_count": 7,
     "metadata": {},
     "output_type": "execute_result"
    }
   ],
   "source": [
    "# drop rows with cmd_i null\n",
    "\n",
    "def operateDFs(dict, op, arg):\n",
    "    # Apply an operation to all the dataframes in a dictionary\n",
    "    # dict: dictionary of dataframes\n",
    "    # op: operation to perform on the dataframes\n",
    "    # arg: argument to pass to the operation\n",
    "    # return: dictionary of dataframe with the operation applied\n",
    "    for v in dict.values():\n",
    "        op(v, arg)\n",
    "\n",
    "dropRowsNull = (lambda df, arg: df.dropna(subset=arg, inplace=True))\n",
    "operateDFs(dict, dropRowsNull, [\"cmd_i\"])\n",
    "\n",
    "# Check if there are still rows with cmd_i null\n",
    "df1.isnull().sum()"
   ]
  },
  {
   "cell_type": "markdown",
   "metadata": {},
   "source": [
    "#### cmd_c and cmd_n null values"
   ]
  },
  {
   "cell_type": "code",
   "execution_count": 8,
   "metadata": {},
   "outputs": [
    {
     "data": {
      "text/html": [
       "<div>\n",
       "<style scoped>\n",
       "    .dataframe tbody tr th:only-of-type {\n",
       "        vertical-align: middle;\n",
       "    }\n",
       "\n",
       "    .dataframe tbody tr th {\n",
       "        vertical-align: top;\n",
       "    }\n",
       "\n",
       "    .dataframe thead th {\n",
       "        text-align: right;\n",
       "    }\n",
       "</style>\n",
       "<table border=\"1\" class=\"dataframe\">\n",
       "  <thead>\n",
       "    <tr style=\"text-align: right;\">\n",
       "      <th></th>\n",
       "      <th>_id</th>\n",
       "      <th>cmd_c</th>\n",
       "      <th>cmd_i</th>\n",
       "      <th>cmd_n</th>\n",
       "      <th>code</th>\n",
       "      <th>derivationOf</th>\n",
       "      <th>original</th>\n",
       "      <th>sat</th>\n",
       "      <th>time</th>\n",
       "      <th>msg</th>\n",
       "      <th>theme</th>\n",
       "    </tr>\n",
       "  </thead>\n",
       "  <tbody>\n",
       "    <tr>\n",
       "      <th>13</th>\n",
       "      <td>nuWnon2d7N7N7ZFvw</td>\n",
       "      <td>NaN</td>\n",
       "      <td>7.0</td>\n",
       "      <td>NaN</td>\n",
       "      <td>/**\\n * Linear temporal logic revision exercis...</td>\n",
       "      <td>ZjxPhwuLGd52cZyox</td>\n",
       "      <td>9jPK8KBWzjFmBx4Hb</td>\n",
       "      <td>-1.0</td>\n",
       "      <td>2020-11-23 23:09:43</td>\n",
       "      <td>There are 1 possible tokens that can appear he...</td>\n",
       "      <td>NaN</td>\n",
       "    </tr>\n",
       "    <tr>\n",
       "      <th>14</th>\n",
       "      <td>sxuHvWgfPeRh9QYYy</td>\n",
       "      <td>NaN</td>\n",
       "      <td>7.0</td>\n",
       "      <td>NaN</td>\n",
       "      <td>/**\\n * Linear temporal logic revision exercis...</td>\n",
       "      <td>RBovdMdE7s7k2Z3xY</td>\n",
       "      <td>9jPK8KBWzjFmBx4Hb</td>\n",
       "      <td>-1.0</td>\n",
       "      <td>2020-12-1 21:46:47</td>\n",
       "      <td>There are 37 possible tokens that can appear h...</td>\n",
       "      <td>NaN</td>\n",
       "    </tr>\n",
       "    <tr>\n",
       "      <th>16</th>\n",
       "      <td>xPeTe3FdpxzspZTta</td>\n",
       "      <td>NaN</td>\n",
       "      <td>7.0</td>\n",
       "      <td>NaN</td>\n",
       "      <td>/**\\n * Linear temporal logic revision exercis...</td>\n",
       "      <td>t45BxKKpdXbYN4Aun</td>\n",
       "      <td>9jPK8KBWzjFmBx4Hb</td>\n",
       "      <td>-1.0</td>\n",
       "      <td>2020-11-26 10:17:06</td>\n",
       "      <td>There are 1 possible tokens that can appear he...</td>\n",
       "      <td>NaN</td>\n",
       "    </tr>\n",
       "    <tr>\n",
       "      <th>20</th>\n",
       "      <td>GQbQyxLarysc73gH7</td>\n",
       "      <td>NaN</td>\n",
       "      <td>3.0</td>\n",
       "      <td>NaN</td>\n",
       "      <td>/**\\n * Linear temporal logic revision exercis...</td>\n",
       "      <td>2js6dSN2dk4HhJmbF</td>\n",
       "      <td>9jPK8KBWzjFmBx4Hb</td>\n",
       "      <td>-1.0</td>\n",
       "      <td>2020-12-1 11:39:04</td>\n",
       "      <td>There are 37 possible tokens that can appear h...</td>\n",
       "      <td>NaN</td>\n",
       "    </tr>\n",
       "    <tr>\n",
       "      <th>25</th>\n",
       "      <td>CCt6wniT5St2hKKFr</td>\n",
       "      <td>NaN</td>\n",
       "      <td>0.0</td>\n",
       "      <td>NaN</td>\n",
       "      <td>/**\\n * Linear temporal logic revision exercis...</td>\n",
       "      <td>9jPK8KBWzjFmBx4Hb</td>\n",
       "      <td>9jPK8KBWzjFmBx4Hb</td>\n",
       "      <td>-1.0</td>\n",
       "      <td>2019-10-31 10:48:50</td>\n",
       "      <td>There are 29 possible tokens that can appear h...</td>\n",
       "      <td>NaN</td>\n",
       "    </tr>\n",
       "  </tbody>\n",
       "</table>\n",
       "</div>"
      ],
      "text/plain": [
       "                  _id  cmd_c  cmd_i cmd_n  \\\n",
       "13  nuWnon2d7N7N7ZFvw    NaN    7.0   NaN   \n",
       "14  sxuHvWgfPeRh9QYYy    NaN    7.0   NaN   \n",
       "16  xPeTe3FdpxzspZTta    NaN    7.0   NaN   \n",
       "20  GQbQyxLarysc73gH7    NaN    3.0   NaN   \n",
       "25  CCt6wniT5St2hKKFr    NaN    0.0   NaN   \n",
       "\n",
       "                                                 code       derivationOf  \\\n",
       "13  /**\\n * Linear temporal logic revision exercis...  ZjxPhwuLGd52cZyox   \n",
       "14  /**\\n * Linear temporal logic revision exercis...  RBovdMdE7s7k2Z3xY   \n",
       "16  /**\\n * Linear temporal logic revision exercis...  t45BxKKpdXbYN4Aun   \n",
       "20  /**\\n * Linear temporal logic revision exercis...  2js6dSN2dk4HhJmbF   \n",
       "25  /**\\n * Linear temporal logic revision exercis...  9jPK8KBWzjFmBx4Hb   \n",
       "\n",
       "             original  sat                 time  \\\n",
       "13  9jPK8KBWzjFmBx4Hb -1.0  2020-11-23 23:09:43   \n",
       "14  9jPK8KBWzjFmBx4Hb -1.0   2020-12-1 21:46:47   \n",
       "16  9jPK8KBWzjFmBx4Hb -1.0  2020-11-26 10:17:06   \n",
       "20  9jPK8KBWzjFmBx4Hb -1.0   2020-12-1 11:39:04   \n",
       "25  9jPK8KBWzjFmBx4Hb -1.0  2019-10-31 10:48:50   \n",
       "\n",
       "                                                  msg theme  \n",
       "13  There are 1 possible tokens that can appear he...   NaN  \n",
       "14  There are 37 possible tokens that can appear h...   NaN  \n",
       "16  There are 1 possible tokens that can appear he...   NaN  \n",
       "20  There are 37 possible tokens that can appear h...   NaN  \n",
       "25  There are 29 possible tokens that can appear h...   NaN  "
      ]
     },
     "execution_count": 8,
     "metadata": {},
     "output_type": "execute_result"
    }
   ],
   "source": [
    "# Filter rows with cmd_c = null\n",
    "nullDF = df1[df1[\"cmd_c\"].isnull()]\n",
    "nullDF.head()"
   ]
  },
  {
   "cell_type": "code",
   "execution_count": 9,
   "metadata": {},
   "outputs": [
    {
     "name": "stdout",
     "output_type": "stream",
     "text": [
      "Rows with cmd_c null:  880\n",
      "Rows with cmd_n null:  880\n",
      "Rows with msg null:  0\n",
      "Rows with negative sat:  880\n"
     ]
    }
   ],
   "source": [
    "print(\"Rows with cmd_c null: \", len(nullDF))\n",
    "print(\"Rows with cmd_n null: \", len(nullDF[nullDF[\"cmd_n\"].isnull()]))\n",
    "print(\"Rows with msg null: \", len(nullDF[nullDF[\"msg\"].isnull()]))\n",
    "print(\"Rows with negative sat: \", len(nullDF[nullDF[\"sat\"] == -1]))"
   ]
  },
  {
   "cell_type": "markdown",
   "metadata": {},
   "source": [
    "Whenever cmd_c is null, cmd_n is also null. These values are null for cases where a syntactic error is thrown and a msg appears.\n",
    "The code in these case is not parseable. We can drop these rows."
   ]
  },
  {
   "cell_type": "code",
   "execution_count": 10,
   "metadata": {},
   "outputs": [
    {
     "data": {
      "text/plain": [
       "_id                0\n",
       "cmd_c              0\n",
       "cmd_i              0\n",
       "cmd_n              0\n",
       "code               0\n",
       "derivationOf       0\n",
       "original           0\n",
       "sat                0\n",
       "time               0\n",
       "msg             4318\n",
       "theme           4338\n",
       "dtype: int64"
      ]
     },
     "execution_count": 10,
     "metadata": {},
     "output_type": "execute_result"
    }
   ],
   "source": [
    "# drop rows with cmd_c null\n",
    "operateDFs(dict, dropRowsNull, [\"cmd_c\"])\n",
    "df1.isnull().sum()"
   ]
  },
  {
   "cell_type": "markdown",
   "metadata": {},
   "source": [
    "Dealing with mgs and theme null values is not important in these context."
   ]
  },
  {
   "cell_type": "markdown",
   "metadata": {},
   "source": [
    "### Remove extra features"
   ]
  },
  {
   "cell_type": "markdown",
   "metadata": {},
   "source": [
    "#### cmd_c feature"
   ]
  },
  {
   "cell_type": "code",
   "execution_count": 11,
   "metadata": {},
   "outputs": [
    {
     "name": "stdout",
     "output_type": "stream",
     "text": [
      "Counter({1.0: 21234, 0.0: 23})\n"
     ]
    },
    {
     "data": {
      "image/png": "[encoded data removed]",
      "text/plain": [
       "<Figure size 640x480 with 1 Axes>"
      ]
     },
     "metadata": {},
     "output_type": "display_data"
    }
   ],
   "source": [
    "\n",
    "def countValues(dict, col):\n",
    "    # Count the values in a column\n",
    "    # df: dataframe\n",
    "    # col: column to count\n",
    "    # return: dataframe with the counts\n",
    "    totalCount = collections.Counter()\n",
    "\n",
    "    for df in dict.values():\n",
    "        count = df[col].value_counts().to_dict()\n",
    "        totalCount.update(count)        \n",
    "\n",
    "    return totalCount\n",
    "\n",
    "# Count the different values in the cmd_c column across all the dataframes\n",
    "counter = countValues(dict, 'cmd_c')\n",
    "print(counter)\n",
    "\n",
    "plt.barh([str(k) for k in counter.keys()], counter.values())\n",
    "plt.show()\n"
   ]
  },
  {
   "cell_type": "markdown",
   "metadata": {},
   "source": [
    "The number of 0 values for the column cmd_c is irrelevant (when the executed command is not a check). For that reason, entries with these values should be dropped."
   ]
  },
  {
   "cell_type": "code",
   "execution_count": 12,
   "metadata": {},
   "outputs": [
    {
     "name": "stdout",
     "output_type": "stream",
     "text": [
      "Counter({1.0: 21234})\n"
     ]
    }
   ],
   "source": [
    "# Remove the rows with the value 0 in the cmd_c column\n",
    "dropRowsWith = (lambda df, arg: df.drop(df[df[arg] == 0].index, inplace=True))\n",
    "operateDFs(dict, dropRowsWith, 'cmd_c')\n",
    "\n",
    "# Count the different values in the cmd_c column\n",
    "print(countValues(dict, 'cmd_c'))"
   ]
  },
  {
   "cell_type": "markdown",
   "metadata": {},
   "source": [
    "#### original feature"
   ]
  },
  {
   "cell_type": "code",
   "execution_count": 13,
   "metadata": {},
   "outputs": [
    {
     "name": "stdout",
     "output_type": "stream",
     "text": [
      "{'9jPK8KBWzjFmBx4Hb': 4338}\n",
      "{'FwCGymHmbqcziisH5': 972}\n",
      "{'gAeD3MTGCCv8YNTaK': 1764}\n",
      "{'JC8Tij8o8GZb99gEJ': 665}\n",
      "{'jyS8Bmceejj9pLbTW': 459}\n",
      "{'PQAJE67kz8w5NWJuM': 1934}\n",
      "{'sDLK7uBCbgZon3znd': 2216}\n",
      "{'WGdhwKZnCu7aKhXq9': 283}\n",
      "{'YH3ANm7Y5Qe5dSYem': 3478}\n",
      "{'zoEADeCW2b2suJB2k': 1633}\n",
      "{'zRAn69AocpkmxXZnW': 3492}\n",
      "\n"
     ]
    }
   ],
   "source": [
    "# Count the different values for the original column for each dataframe\n",
    "countValuesOp = (lambda df, arg: print(df[arg].value_counts().to_dict()))\n",
    "operateDFs(dict, countValuesOp, 'original')\n",
    "print(\"\")"
   ]
  },
  {
   "cell_type": "markdown",
   "metadata": {},
   "source": [
    "Every dataframe has the same value for the original column. This column is irrelevant."
   ]
  },
  {
   "cell_type": "markdown",
   "metadata": {},
   "source": [
    "#### cmd_n feature"
   ]
  },
  {
   "cell_type": "code",
   "execution_count": 14,
   "metadata": {},
   "outputs": [
    {
     "data": {
      "text/plain": [
       "prop5Ok     426\n",
       "prop12Ok    413\n",
       "prop6Ok     388\n",
       "prop10Ok    350\n",
       "prop8Ok     338\n",
       "prop18Ok    241\n",
       "prop4Ok     233\n",
       "prop2Ok     227\n",
       "prop11Ok    214\n",
       "prop9Ok     177\n",
       "prop14Ok    161\n",
       "prop1Ok     158\n",
       "prop7Ok     149\n",
       "prop17Ok    148\n",
       "prop16Ok    145\n",
       "prop20Ok    131\n",
       "prop13Ok    120\n",
       "prop3Ok     110\n",
       "prop19Ok    108\n",
       "prop15Ok    101\n",
       "Name: cmd_n, dtype: int64"
      ]
     },
     "execution_count": 14,
     "metadata": {},
     "output_type": "execute_result"
    }
   ],
   "source": [
    "df1[\"cmd_n\"].value_counts()"
   ]
  },
  {
   "cell_type": "code",
   "execution_count": 15,
   "metadata": {},
   "outputs": [
    {
     "data": {
      "text/plain": [
       "4.0     426\n",
       "11.0    413\n",
       "5.0     388\n",
       "9.0     350\n",
       "7.0     338\n",
       "17.0    241\n",
       "3.0     233\n",
       "1.0     227\n",
       "10.0    214\n",
       "8.0     177\n",
       "13.0    161\n",
       "0.0     158\n",
       "6.0     149\n",
       "16.0    148\n",
       "15.0    145\n",
       "19.0    131\n",
       "12.0    120\n",
       "2.0     110\n",
       "18.0    108\n",
       "14.0    101\n",
       "Name: cmd_i, dtype: int64"
      ]
     },
     "execution_count": 15,
     "metadata": {},
     "output_type": "execute_result"
    }
   ],
   "source": [
    "df1[\"cmd_i\"].value_counts()"
   ]
  },
  {
   "cell_type": "markdown",
   "metadata": {},
   "source": [
    "First step is to encode the categorical value."
   ]
  },
  {
   "cell_type": "code",
   "execution_count": 16,
   "metadata": {},
   "outputs": [
    {
     "data": {
      "text/html": [
       "<div>\n",
       "<style scoped>\n",
       "    .dataframe tbody tr th:only-of-type {\n",
       "        vertical-align: middle;\n",
       "    }\n",
       "\n",
       "    .dataframe tbody tr th {\n",
       "        vertical-align: top;\n",
       "    }\n",
       "\n",
       "    .dataframe thead th {\n",
       "        text-align: right;\n",
       "    }\n",
       "</style>\n",
       "<table border=\"1\" class=\"dataframe\">\n",
       "  <thead>\n",
       "    <tr style=\"text-align: right;\">\n",
       "      <th></th>\n",
       "      <th>_id</th>\n",
       "      <th>cmd_c</th>\n",
       "      <th>cmd_i</th>\n",
       "      <th>cmd_n</th>\n",
       "      <th>code</th>\n",
       "      <th>derivationOf</th>\n",
       "      <th>original</th>\n",
       "      <th>sat</th>\n",
       "      <th>time</th>\n",
       "      <th>msg</th>\n",
       "      <th>theme</th>\n",
       "    </tr>\n",
       "  </thead>\n",
       "  <tbody>\n",
       "    <tr>\n",
       "      <th>0</th>\n",
       "      <td>zKAYz8BCDmHKgNoSx</td>\n",
       "      <td>1.0</td>\n",
       "      <td>7.0</td>\n",
       "      <td>8</td>\n",
       "      <td>/**\\n * Linear temporal logic revision exercis...</td>\n",
       "      <td>dvhCng5AdxC8MqjFy</td>\n",
       "      <td>9jPK8KBWzjFmBx4Hb</td>\n",
       "      <td>1.0</td>\n",
       "      <td>2020-12-13 23:28:11</td>\n",
       "      <td>NaN</td>\n",
       "      <td>NaN</td>\n",
       "    </tr>\n",
       "    <tr>\n",
       "      <th>1</th>\n",
       "      <td>8FmQ9PNWT2SXncTxX</td>\n",
       "      <td>1.0</td>\n",
       "      <td>9.0</td>\n",
       "      <td>10</td>\n",
       "      <td>/**\\n * Linear temporal logic revision exercis...</td>\n",
       "      <td>5eT7wTw5kT8DwTbu2</td>\n",
       "      <td>9jPK8KBWzjFmBx4Hb</td>\n",
       "      <td>1.0</td>\n",
       "      <td>2019-11-11 21:54:33</td>\n",
       "      <td>NaN</td>\n",
       "      <td>NaN</td>\n",
       "    </tr>\n",
       "    <tr>\n",
       "      <th>2</th>\n",
       "      <td>eyGu5DYCrnk58G2fJ</td>\n",
       "      <td>1.0</td>\n",
       "      <td>6.0</td>\n",
       "      <td>7</td>\n",
       "      <td>/**\\n * Linear temporal logic revision exercis...</td>\n",
       "      <td>niLmMRmm94Hz6ymcD</td>\n",
       "      <td>9jPK8KBWzjFmBx4Hb</td>\n",
       "      <td>1.0</td>\n",
       "      <td>2020-12-1 11:55:11</td>\n",
       "      <td>NaN</td>\n",
       "      <td>NaN</td>\n",
       "    </tr>\n",
       "    <tr>\n",
       "      <th>3</th>\n",
       "      <td>Akbr9Aq6WfBLHrvE8</td>\n",
       "      <td>1.0</td>\n",
       "      <td>18.0</td>\n",
       "      <td>19</td>\n",
       "      <td>/**\\n * Linear temporal logic revision exercis...</td>\n",
       "      <td>DnAm62D7JaqDzyy5y</td>\n",
       "      <td>9jPK8KBWzjFmBx4Hb</td>\n",
       "      <td>1.0</td>\n",
       "      <td>2020-11-26 10:33:29</td>\n",
       "      <td>NaN</td>\n",
       "      <td>NaN</td>\n",
       "    </tr>\n",
       "    <tr>\n",
       "      <th>4</th>\n",
       "      <td>MNegade3hLiutxCru</td>\n",
       "      <td>1.0</td>\n",
       "      <td>10.0</td>\n",
       "      <td>11</td>\n",
       "      <td>/**\\n * Linear temporal logic revision exercis...</td>\n",
       "      <td>cjK4u23ZAfYm8fatA</td>\n",
       "      <td>9jPK8KBWzjFmBx4Hb</td>\n",
       "      <td>1.0</td>\n",
       "      <td>2020-1-19 17:06:22</td>\n",
       "      <td>NaN</td>\n",
       "      <td>NaN</td>\n",
       "    </tr>\n",
       "  </tbody>\n",
       "</table>\n",
       "</div>"
      ],
      "text/plain": [
       "                 _id  cmd_c  cmd_i  cmd_n  \\\n",
       "0  zKAYz8BCDmHKgNoSx    1.0    7.0      8   \n",
       "1  8FmQ9PNWT2SXncTxX    1.0    9.0     10   \n",
       "2  eyGu5DYCrnk58G2fJ    1.0    6.0      7   \n",
       "3  Akbr9Aq6WfBLHrvE8    1.0   18.0     19   \n",
       "4  MNegade3hLiutxCru    1.0   10.0     11   \n",
       "\n",
       "                                                code       derivationOf  \\\n",
       "0  /**\\n * Linear temporal logic revision exercis...  dvhCng5AdxC8MqjFy   \n",
       "1  /**\\n * Linear temporal logic revision exercis...  5eT7wTw5kT8DwTbu2   \n",
       "2  /**\\n * Linear temporal logic revision exercis...  niLmMRmm94Hz6ymcD   \n",
       "3  /**\\n * Linear temporal logic revision exercis...  DnAm62D7JaqDzyy5y   \n",
       "4  /**\\n * Linear temporal logic revision exercis...  cjK4u23ZAfYm8fatA   \n",
       "\n",
       "            original  sat                 time  msg theme  \n",
       "0  9jPK8KBWzjFmBx4Hb  1.0  2020-12-13 23:28:11  NaN   NaN  \n",
       "1  9jPK8KBWzjFmBx4Hb  1.0  2019-11-11 21:54:33  NaN   NaN  \n",
       "2  9jPK8KBWzjFmBx4Hb  1.0   2020-12-1 11:55:11  NaN   NaN  \n",
       "3  9jPK8KBWzjFmBx4Hb  1.0  2020-11-26 10:33:29  NaN   NaN  \n",
       "4  9jPK8KBWzjFmBx4Hb  1.0   2020-1-19 17:06:22  NaN   NaN  "
      ]
     },
     "execution_count": 16,
     "metadata": {},
     "output_type": "execute_result"
    }
   ],
   "source": [
    "# Encode all the values in the cmd_n column\n",
    "# Remove the prefix and suffix\n",
    "df1.loc[df1[\"cmd_n\"].str.contains(\"Ok\"), \"cmd_n\"] = df1[\"cmd_n\"].str[4:].str.removesuffix(\"Ok\")\n",
    "df1[\"cmd_n\"] = df1[\"cmd_n\"].astype('int') # transform to ints\n",
    "df1.head()"
   ]
  },
  {
   "cell_type": "code",
   "execution_count": 17,
   "metadata": {},
   "outputs": [
    {
     "name": "stdout",
     "output_type": "stream",
     "text": [
      "Correlation between cmd_n and cmd_i:  1.0\n"
     ]
    }
   ],
   "source": [
    "print(\"Correlation between cmd_n and cmd_i: \", df1[\"cmd_n\"].corr(df1[\"cmd_i\"]))"
   ]
  },
  {
   "cell_type": "markdown",
   "metadata": {},
   "source": [
    "After encoding, cmd_n and cmd_i are highly correlated features. So we can drop one of this columns."
   ]
  },
  {
   "cell_type": "markdown",
   "metadata": {},
   "source": [
    "Now we will drop the irrelevant columns. "
   ]
  },
  {
   "cell_type": "code",
   "execution_count": 18,
   "metadata": {},
   "outputs": [
    {
     "data": {
      "text/html": [
       "<div>\n",
       "<style scoped>\n",
       "    .dataframe tbody tr th:only-of-type {\n",
       "        vertical-align: middle;\n",
       "    }\n",
       "\n",
       "    .dataframe tbody tr th {\n",
       "        vertical-align: top;\n",
       "    }\n",
       "\n",
       "    .dataframe thead th {\n",
       "        text-align: right;\n",
       "    }\n",
       "</style>\n",
       "<table border=\"1\" class=\"dataframe\">\n",
       "  <thead>\n",
       "    <tr style=\"text-align: right;\">\n",
       "      <th></th>\n",
       "      <th>_id</th>\n",
       "      <th>cmd_i</th>\n",
       "      <th>code</th>\n",
       "      <th>derivationOf</th>\n",
       "      <th>sat</th>\n",
       "    </tr>\n",
       "  </thead>\n",
       "  <tbody>\n",
       "    <tr>\n",
       "      <th>0</th>\n",
       "      <td>zKAYz8BCDmHKgNoSx</td>\n",
       "      <td>7.0</td>\n",
       "      <td>/**\\n * Linear temporal logic revision exercis...</td>\n",
       "      <td>dvhCng5AdxC8MqjFy</td>\n",
       "      <td>1.0</td>\n",
       "    </tr>\n",
       "    <tr>\n",
       "      <th>1</th>\n",
       "      <td>8FmQ9PNWT2SXncTxX</td>\n",
       "      <td>9.0</td>\n",
       "      <td>/**\\n * Linear temporal logic revision exercis...</td>\n",
       "      <td>5eT7wTw5kT8DwTbu2</td>\n",
       "      <td>1.0</td>\n",
       "    </tr>\n",
       "    <tr>\n",
       "      <th>2</th>\n",
       "      <td>eyGu5DYCrnk58G2fJ</td>\n",
       "      <td>6.0</td>\n",
       "      <td>/**\\n * Linear temporal logic revision exercis...</td>\n",
       "      <td>niLmMRmm94Hz6ymcD</td>\n",
       "      <td>1.0</td>\n",
       "    </tr>\n",
       "    <tr>\n",
       "      <th>3</th>\n",
       "      <td>Akbr9Aq6WfBLHrvE8</td>\n",
       "      <td>18.0</td>\n",
       "      <td>/**\\n * Linear temporal logic revision exercis...</td>\n",
       "      <td>DnAm62D7JaqDzyy5y</td>\n",
       "      <td>1.0</td>\n",
       "    </tr>\n",
       "    <tr>\n",
       "      <th>4</th>\n",
       "      <td>MNegade3hLiutxCru</td>\n",
       "      <td>10.0</td>\n",
       "      <td>/**\\n * Linear temporal logic revision exercis...</td>\n",
       "      <td>cjK4u23ZAfYm8fatA</td>\n",
       "      <td>1.0</td>\n",
       "    </tr>\n",
       "  </tbody>\n",
       "</table>\n",
       "</div>"
      ],
      "text/plain": [
       "                 _id  cmd_i  \\\n",
       "0  zKAYz8BCDmHKgNoSx    7.0   \n",
       "1  8FmQ9PNWT2SXncTxX    9.0   \n",
       "2  eyGu5DYCrnk58G2fJ    6.0   \n",
       "3  Akbr9Aq6WfBLHrvE8   18.0   \n",
       "4  MNegade3hLiutxCru   10.0   \n",
       "\n",
       "                                                code       derivationOf  sat  \n",
       "0  /**\\n * Linear temporal logic revision exercis...  dvhCng5AdxC8MqjFy  1.0  \n",
       "1  /**\\n * Linear temporal logic revision exercis...  5eT7wTw5kT8DwTbu2  1.0  \n",
       "2  /**\\n * Linear temporal logic revision exercis...  niLmMRmm94Hz6ymcD  1.0  \n",
       "3  /**\\n * Linear temporal logic revision exercis...  DnAm62D7JaqDzyy5y  1.0  \n",
       "4  /**\\n * Linear temporal logic revision exercis...  cjK4u23ZAfYm8fatA  1.0  "
      ]
     },
     "execution_count": 18,
     "metadata": {},
     "output_type": "execute_result"
    }
   ],
   "source": [
    "# Drop columns that are not needed\n",
    "dropColOp = (lambda df, arg: df.drop(columns=arg, axis=1, inplace=True))\n",
    "operateDFs(dict, dropColOp, [\"cmd_c\", \"cmd_n\", \"original\", \"time\", \"msg\", \"theme\"])\n",
    "\n",
    "dict[\"9jPK8KBWzjFmBx4Hb\"].head()"
   ]
  },
  {
   "cell_type": "markdown",
   "metadata": {},
   "source": [
    "### Code cleaning\n",
    "\n",
    "The code in this dataset comes with comments that can be removed."
   ]
  },
  {
   "cell_type": "code",
   "execution_count": 19,
   "metadata": {},
   "outputs": [
    {
     "data": {
      "text/html": [
       "<div>\n",
       "<style scoped>\n",
       "    .dataframe tbody tr th:only-of-type {\n",
       "        vertical-align: middle;\n",
       "    }\n",
       "\n",
       "    .dataframe tbody tr th {\n",
       "        vertical-align: top;\n",
       "    }\n",
       "\n",
       "    .dataframe thead th {\n",
       "        text-align: right;\n",
       "    }\n",
       "</style>\n",
       "<table border=\"1\" class=\"dataframe\">\n",
       "  <thead>\n",
       "    <tr style=\"text-align: right;\">\n",
       "      <th></th>\n",
       "      <th>_id</th>\n",
       "      <th>cmd_i</th>\n",
       "      <th>code</th>\n",
       "      <th>derivationOf</th>\n",
       "      <th>sat</th>\n",
       "    </tr>\n",
       "  </thead>\n",
       "  <tbody>\n",
       "    <tr>\n",
       "      <th>0</th>\n",
       "      <td>zKAYz8BCDmHKgNoSx</td>\n",
       "      <td>7.0</td>\n",
       "      <td>\\nvar sig File {\\n\\tvar link : lone File\\n}\\nv...</td>\n",
       "      <td>dvhCng5AdxC8MqjFy</td>\n",
       "      <td>1.0</td>\n",
       "    </tr>\n",
       "    <tr>\n",
       "      <th>1</th>\n",
       "      <td>8FmQ9PNWT2SXncTxX</td>\n",
       "      <td>9.0</td>\n",
       "      <td>\\nvar sig File {\\n\\tvar link : lone File\\n}\\nv...</td>\n",
       "      <td>5eT7wTw5kT8DwTbu2</td>\n",
       "      <td>1.0</td>\n",
       "    </tr>\n",
       "    <tr>\n",
       "      <th>2</th>\n",
       "      <td>eyGu5DYCrnk58G2fJ</td>\n",
       "      <td>6.0</td>\n",
       "      <td>\\nvar sig File {\\n\\tvar link : lone File\\n}\\nv...</td>\n",
       "      <td>niLmMRmm94Hz6ymcD</td>\n",
       "      <td>1.0</td>\n",
       "    </tr>\n",
       "    <tr>\n",
       "      <th>3</th>\n",
       "      <td>Akbr9Aq6WfBLHrvE8</td>\n",
       "      <td>18.0</td>\n",
       "      <td>\\nvar sig File {\\n\\tvar link : lone File\\n}\\nv...</td>\n",
       "      <td>DnAm62D7JaqDzyy5y</td>\n",
       "      <td>1.0</td>\n",
       "    </tr>\n",
       "    <tr>\n",
       "      <th>4</th>\n",
       "      <td>MNegade3hLiutxCru</td>\n",
       "      <td>10.0</td>\n",
       "      <td>\\nvar sig File {\\n\\tvar link : lone File\\n}\\nv...</td>\n",
       "      <td>cjK4u23ZAfYm8fatA</td>\n",
       "      <td>1.0</td>\n",
       "    </tr>\n",
       "  </tbody>\n",
       "</table>\n",
       "</div>"
      ],
      "text/plain": [
       "                 _id  cmd_i  \\\n",
       "0  zKAYz8BCDmHKgNoSx    7.0   \n",
       "1  8FmQ9PNWT2SXncTxX    9.0   \n",
       "2  eyGu5DYCrnk58G2fJ    6.0   \n",
       "3  Akbr9Aq6WfBLHrvE8   18.0   \n",
       "4  MNegade3hLiutxCru   10.0   \n",
       "\n",
       "                                                code       derivationOf  sat  \n",
       "0  \\nvar sig File {\\n\\tvar link : lone File\\n}\\nv...  dvhCng5AdxC8MqjFy  1.0  \n",
       "1  \\nvar sig File {\\n\\tvar link : lone File\\n}\\nv...  5eT7wTw5kT8DwTbu2  1.0  \n",
       "2  \\nvar sig File {\\n\\tvar link : lone File\\n}\\nv...  niLmMRmm94Hz6ymcD  1.0  \n",
       "3  \\nvar sig File {\\n\\tvar link : lone File\\n}\\nv...  DnAm62D7JaqDzyy5y  1.0  \n",
       "4  \\nvar sig File {\\n\\tvar link : lone File\\n}\\nv...  cjK4u23ZAfYm8fatA  1.0  "
      ]
     },
     "execution_count": 19,
     "metadata": {},
     "output_type": "execute_result"
    }
   ],
   "source": [
    "import re # regular expressions\n",
    "\n",
    "def cleanCode(code):\n",
    "    # Remove comments and empty lines\n",
    "    # code: string with the code\n",
    "    # return: string with the code without comments and empty lines\n",
    "    code = re.sub(r\"(/\\*(.|\\n)*?\\*/)|(//.*)\", \"\", code) # remove comments\n",
    "    return re.sub(r\"\\n\\n(?=\\n)\", \"\", code) # remove empty lines\n",
    "\n",
    "def applyToCol(df, col, op):\n",
    "    # Apply an operation to a column\n",
    "    # df: dataframe\n",
    "    # col: column to apply the operation\n",
    "    # op: operation to apply\n",
    "    # return: dataframe with the operation applied\n",
    "    df[col] = df[col].apply(op)\n",
    "    return df\n",
    "\n",
    "# Clean the code column\n",
    "cleanCodeOp = (lambda df, arg: applyToCol(df, arg, cleanCode))\n",
    "operateDFs(dict, cleanCodeOp, \"code\")\n",
    "\n",
    "df1.head()\n"
   ]
  },
  {
   "cell_type": "code",
   "execution_count": 20,
   "metadata": {},
   "outputs": [
    {
     "data": {
      "text/plain": [
       "'F4P7B9ALZD2fD492k'"
      ]
     },
     "execution_count": 20,
     "metadata": {},
     "output_type": "execute_result"
    }
   ],
   "source": [
    "df1[\"_id\"][256]"
   ]
  },
  {
   "cell_type": "markdown",
   "metadata": {},
   "source": [
    "We can also look for duplicate code."
   ]
  },
  {
   "cell_type": "code",
   "execution_count": 21,
   "metadata": {},
   "outputs": [
    {
     "name": "stdout",
     "output_type": "stream",
     "text": [
      "Duplicate code:  775\n"
     ]
    }
   ],
   "source": [
    "print(\"Duplicate code: \", len(df1[\"code\"])-len(df1[\"code\"].drop_duplicates()))"
   ]
  },
  {
   "cell_type": "markdown",
   "metadata": {},
   "source": [
    "There is a lot of entries with repeated code. However, if we drop duplicates we might lose information on student sessions."
   ]
  },
  {
   "cell_type": "markdown",
   "metadata": {},
   "source": [
    "## Add AST column"
   ]
  },
  {
   "cell_type": "markdown",
   "metadata": {},
   "source": [
    "Import Java library."
   ]
  },
  {
   "cell_type": "code",
   "execution_count": 22,
   "metadata": {},
   "outputs": [],
   "source": [
    "import jpype # Java\n",
    "\n",
    "# Import the Java libraries\n",
    "if not jpype.isJVMStarted():\n",
    "    jpype.startJVM(classpath=['lib/Parser/parser.jar'])\n",
    "\n",
    "# Import the Java classes\n",
    "Parser = jpype.JClass('org.higena.A4FParser')\n",
    "CompUtil = jpype.JClass('edu.mit.csail.sdg.parser.CompUtil')\n",
    "Reporter = jpype.JClass('edu.mit.csail.sdg.alloy4.A4Reporter')\n",
    "SyntaxError = jpype.JClass('edu.mit.csail.sdg.alloy4.ErrorSyntax')"
   ]
  },
  {
   "cell_type": "markdown",
   "metadata": {},
   "source": [
    "Create column headers."
   ]
  },
  {
   "cell_type": "code",
   "execution_count": 23,
   "metadata": {},
   "outputs": [],
   "source": [
    "# Auxiliary functions\n",
    "\n",
    "def parseSubmission(code):\n",
    "    # Parse a submission\n",
    "    # code: code of the submission\n",
    "    # return: the parsed submissions as a dictionary of functions\n",
    "\n",
    "    # Parse code\n",
    "    return Parser.parse(code)\n",
    "\n",
    "def parseChallenge(challengeID):\n",
    "    # Parse a challenge file\n",
    "    # id: id of the challenge\n",
    "    # return: the parsed challenge\n",
    "\n",
    "    # Set file path\n",
    "    folder = \"data/challenges/\"\n",
    "    file = folder + challengeID + \".als\"\n",
    "    \n",
    "    # Parse file\n",
    "    return CompUtil.parseEverything_fromFile(Reporter(), None, file)\n",
    "\n",
    "def genFunColumns(challenge):\n",
    "    # Generate a dictionary with the function names as keys and an empty list as value\n",
    "    # challenge: parsed challenge\n",
    "    # return: dictionary with the function names as keys and an empty list as value\n",
    "\n",
    "    columns = {} # Initialize dictionary\n",
    "    functions = challenge.getAllFunc() # Get all the functions\n",
    "\n",
    "    # Add the functions to the dictionary\n",
    "    for fun in functions:\n",
    "        if \"$$Default\" not in fun.label: # Ignore default pred\n",
    "            key = str(fun.label).removeprefix(\"this/\") # Remove prefix\n",
    "            columns[key] = [] # Add function to dictionary\n",
    "    \n",
    "    return columns\n",
    "\n",
    "def addASTs(columns, asts):\n",
    "    # Add the ASTs to the dictionary\n",
    "    # columns: dictionary with the function names as keys and an list as value\n",
    "    # asts: dictionary with the function names as keys and the ASTs as value\n",
    "\n",
    "    for astName in asts:\n",
    "        if astName in columns.keys(): # Check if the function is in the challenge\n",
    "             # Add the AST to the dictionary\n",
    "            columns[astName].append(asts.get(astName).getRoot().toString())            \n",
    "    return columns\n",
    "\n",
    "def addSubmissionsASTs(columns, df):\n",
    "    # Add the ASTs of the submissions to the dictionary of columns\n",
    "    # columns: dictionary with the function names as keys and an list of ASTs as value\n",
    "    # df: dataframe with the submissions\n",
    "\n",
    "    # Iterate rows of dataframe df\n",
    "    for index, row in df.iterrows():\n",
    "        # Add all ASTs of the submission to the columns\n",
    "        try:\n",
    "            asts = parseSubmission(row[\"code\"]) # Parse the submission\n",
    "            addASTs(columns, asts) # Add the ASTs to columns\n",
    "        except SyntaxError as e:\n",
    "            # Drop row with syntax errors\n",
    "            df.drop(index, inplace=True) \n",
    "\n",
    "        except Exception as e:\n",
    "            print(\"Error: \", e, \"\\nCode: \\n\", row[\"code\"])\n",
    "            # Drop row with other errors\n",
    "            df.drop(index, inplace=True)\n"
   ]
  },
  {
   "cell_type": "code",
   "execution_count": 28,
   "metadata": {},
   "outputs": [],
   "source": [
    "def insertColums(columns, df):\n",
    "    # Insert the columns in the dataframe\n",
    "    # columns: dictionary with the function names as keys and an list of ASTs as value\n",
    "    # df: dataframe with the submissions\n",
    "\n",
    "    index = len(df.columns) # Get number of columns\n",
    "    # Iterate columns\n",
    "    for key, value in columns.items():\n",
    "        # Insert column on the last position\n",
    "        df.insert(index, key, value) \n",
    "        index += 1\n",
    "\n",
    "def addASTsColumns(dict):\n",
    "    # Add ASTs to dataframe \n",
    "    # Example: column \"pred1\" contains asts of submissions for function \"pred1\n",
    "    \n",
    "    # Iterate dataframes\n",
    "    for id, df in dict.items():\n",
    "        # Generate empty columns\n",
    "        columns = genFunColumns(parseChallenge(id)) \n",
    "        # Add ASTs to columns\n",
    "        addSubmissionsASTs(columns, df)\n",
    "        # Insert columns in dataframe\n",
    "        insertColums(columns, df) \n",
    "        break\n",
    "\n",
    "addASTsColumns(dict)"
   ]
  },
  {
   "cell_type": "code",
   "execution_count": 30,
   "metadata": {},
   "outputs": [
    {
     "data": {
      "text/plain": [
       "0                                   ({, t, r, u, e, })\n",
       "1    ({, n, o, {, +, {, t, h, i, s, /, T, r, a, s, ...\n",
       "2    ({, A, N, D, {, n, o, {, t, h, i, s, /, T, r, ...\n",
       "3    ({, A, N, D, {, n, o, {, t, h, i, s, /, T, r, ...\n",
       "4    ({, n, o, {, +, {, t, h, i, s, /, T, r, a, s, ...\n",
       "Name: prop1, dtype: object"
      ]
     },
     "execution_count": 30,
     "metadata": {},
     "output_type": "execute_result"
    }
   ],
   "source": [
    "dict[\"9jPK8KBWzjFmBx4Hb\"][\"prop1\"].head()"
   ]
  },
  {
   "cell_type": "markdown",
   "metadata": {},
   "source": [
    "# Export clean data"
   ]
  },
  {
   "cell_type": "code",
   "execution_count": null,
   "metadata": {},
   "outputs": [],
   "source": [
    "from sqlalchemy import create_engine\n",
    "\n",
    "\n",
    "def exportDataToDb(dict):\n",
    "    # Export the dataframes to a database\n",
    "    # dict: dictionary of dataframes\n",
    "    \n",
    "    # Connect to the database\n",
    "    engine = create_engine(\"sqlite:///data/a4f_dataset.db\", echo=True)\n",
    "\n",
    "    for k, v in dict.items():\n",
    "        v.to_sql(k, con=engine, if_exists='replace', index=False, index_label='_id')\n",
    "        print(f\"Exported {k}.\")\n",
    "\n",
    "# Export the dataframes to db\n",
    "exportDataToDb(dict)"
   ]
  },
  {
   "cell_type": "code",
   "execution_count": null,
   "metadata": {},
   "outputs": [],
   "source": []
  }
 ],
 "metadata": {
  "kernelspec": {
   "display_name": "Python 3 (ipykernel)",
   "language": "python",
   "name": "python3"
  },
  "language_info": {
   "codemirror_mode": {
    "name": "ipython",
    "version": 3
   },
   "file_extension": ".py",
   "mimetype": "text/x-python",
   "name": "python",
   "nbconvert_exporter": "python",
   "pygments_lexer": "ipython3",
   "version": "3.10.7"
  },
  "vscode": {
   "interpreter": {
    "hash": "26de051ba29f2982a8de78e945f0abaf191376122a1563185a90213a26c5da77"
   }
  }
 },
 "nbformat": 4,
 "nbformat_minor": 2
}
